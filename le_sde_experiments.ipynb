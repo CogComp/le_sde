{
 "cells": [
  {
   "cell_type": "markdown",
   "id": "tutorial-taste",
   "metadata": {},
   "source": [
    "# LE-SDE Experiments\n",
    "\n",
    "Jiayao Zhang (Apr 16)"
   ]
  },
  {
   "cell_type": "code",
   "execution_count": 1,
   "id": "streaming-diamond",
   "metadata": {},
   "outputs": [],
   "source": [
    "from __future__ import print_function, absolute_import, division\n",
    "\n",
    "%load_ext autoreload\n",
    "%autoreload 2\n",
    "# general imports\n",
    "import sys, os, json, requests, time, datetime, logging, multiprocessing\n",
    "from pathlib import Path\n",
    "import pandas as pd\n",
    "import numpy as np"
   ]
  },
  {
   "cell_type": "code",
   "execution_count": 23,
   "id": "alleged-trainer",
   "metadata": {},
   "outputs": [],
   "source": [
    "# configs for plots\n",
    "from matplotlib import pyplot as plt\n",
    "from matplotlib import rc # this is the matplotlib suggestion\n",
    "import seaborn as sns\n",
    "sns.set()\n",
    "\n",
    "plt.rcParams['image.interpolation'] = 'nearest'\n",
    "plt.rcParams['image.cmap'] = 'gray'\n",
    "rc('font', **{'family': 'serif', 'serif': ['Computer Modern']})\n",
    "rc('text', usetex=True)\n",
    "plt.rcParams['figure.figsize'] = (8., 8.0)\n",
    "sns.set_style(\"darkgrid\")\n",
    "sns.set_style({'font.family': 'Times New Roman'})\n",
    "sns.set_palette('deep')"
   ]
  },
  {
   "cell_type": "code",
   "execution_count": 2,
   "id": "theoretical-serial",
   "metadata": {},
   "outputs": [],
   "source": [
    "def console_log(msg, end='\\n'):\n",
    "    os.write(1, ('[LOG/{}]'.format(multiprocessing.current_process().name)+msg+end).encode('utf-8'))\n"
   ]
  },
  {
   "cell_type": "code",
   "execution_count": 5,
   "id": "developmental-final",
   "metadata": {},
   "outputs": [
    {
     "name": "stdout",
     "output_type": "stream",
     "text": [
      "env: CUDA_DEVICE_ORDER=PCI_BUS_ID\n",
      "env: CUDA_VISIBLE_DEVICES=\n",
      "env: OMP_NUM_THREADS=3\n",
      "env: OPENBLAS_NUM_THREADS=3\n",
      "env: OPENMP_NUM_THREADS=3\n",
      "env: MKL_NUM_THREADS=3\n"
     ]
    }
   ],
   "source": [
    "# env variables to limit CPU/GPU usage\n",
    "%env CUDA_DEVICE_ORDER=PCI_BUS_ID\n",
    "%env CUDA_VISIBLE_DEVICES=\n",
    "%env OMP_NUM_THREADS=3\n",
    "%env OPENBLAS_NUM_THREADS=3\n",
    "%env OPENMP_NUM_THREADS=3\n",
    "%env MKL_NUM_THREADS=3"
   ]
  },
  {
   "cell_type": "code",
   "execution_count": 6,
   "id": "adjusted-monaco",
   "metadata": {},
   "outputs": [
    {
     "data": {
      "text/plain": [
       "False"
      ]
     },
     "execution_count": 6,
     "metadata": {},
     "output_type": "execute_result"
    }
   ],
   "source": [
    "import torch\n",
    "TORCH_DEV = torch.device(\"cuda:0\") if torch.cuda.is_available() else torch.device(\"cpu\")\n",
    "torch.cuda.is_available()"
   ]
  },
  {
   "cell_type": "code",
   "execution_count": 7,
   "id": "african-radiation",
   "metadata": {},
   "outputs": [],
   "source": [
    "LOCAL_DATA_PATH = Path('/shared/zjiayao/data')"
   ]
  },
  {
   "cell_type": "markdown",
   "id": "mysterious-strand",
   "metadata": {},
   "source": [
    "## Dataset Generation"
   ]
  },
  {
   "cell_type": "markdown",
   "id": "realistic-mother",
   "metadata": {},
   "source": [
    "### GeoMNIST"
   ]
  },
  {
   "cell_type": "markdown",
   "id": "otherwise-large",
   "metadata": {},
   "source": [
    "We generate a **GeoMNIST** dataset, which contains images of geometric shapes.\n",
    "    "
   ]
  },
  {
   "cell_type": "code",
   "execution_count": 8,
   "id": "micro-arrival",
   "metadata": {},
   "outputs": [],
   "source": [
    "import skimage.draw as skd\n",
    "import scipy.ndimage as simg"
   ]
  },
  {
   "cell_type": "code",
   "execution_count": 9,
   "id": "distinguished-interpretation",
   "metadata": {},
   "outputs": [],
   "source": [
    "def viz_imglist(imgs, figsize=None, figname=None):\n",
    "    \"\"\"\n",
    "    **viz_imglist** shows a list of images\n",
    "    \"\"\"\n",
    "    if figsize is not None:\n",
    "        plt.figure(figsize=figsize)\n",
    "    for idx, img in enumerate(imgs):\n",
    "        plt.subplot(1,len(imgs), idx+1)\n",
    "        ax = plt.gca()\n",
    "        ax.imshow(img, cmap='gray', vmin=0, vmax=1)\n",
    "        ax.axis('off')\n",
    "    if figname is not None:\n",
    "        plt.tight_layout()\n",
    "        plt.savefig(figname, bbox_inches='tight')"
   ]
  },
  {
   "cell_type": "code",
   "execution_count": 10,
   "id": "cathedral-harvest",
   "metadata": {},
   "outputs": [],
   "source": [
    "class Transform:\n",
    "    rotation = lambda x, incr : simg.rotate(x, incr, reshape=False)\n",
    "    shift = lambda x, incr    : simg.shift(x, incr, order=1, mode='nearest')\n",
    "    gauss = lambda x, sigma   : simg.gaussian_filter(x, sigma=sigma)\n",
    "    \n",
    "def pair_shuffle(xs, ys):\n",
    "    indices = np.arange(0, len(xs))\n",
    "    np.random.shuffle(indices)\n",
    "    return xs[indices], ys[indices]\n",
    "\n",
    "def continue_apply(xs, start, end, func):\n",
    "    \"\"\"\n",
    "    **continue_apply** apply func to xs with linearly interpolation in [start, end]\n",
    "    \"\"\"\n",
    "    N = xs.shape[0]\n",
    "    incrs = [(end-start) / (1. * N) * i + start for i in range(N)]\n",
    "    img = [func(xs[i], incrs[i]) for i in range(N)]\n",
    "    return np.array(img)\n",
    "\n",
    "def uniform_smp_apply(xs, start, end, func):\n",
    "    \"\"\"\n",
    "    **uniform_smp_apply** apply func to xs with random selection in [start, end]\n",
    "    \"\"\"\n",
    "    N = xs.shape[0]\n",
    "    incrs = np.random.rand(N)* (end - start) + start\n",
    "    img = [func(xs[i], incrs[i]) for i in range(N)]\n",
    "    return np.array(img)\n",
    "\n"
   ]
  },
  {
   "cell_type": "code",
   "execution_count": 11,
   "id": "taken-movement",
   "metadata": {},
   "outputs": [],
   "source": [
    "def circle_factory(n, shape, r=10, e=2, dr=1, **kwargs):\n",
    "    base_img = np.zeros((n, ) + shape)\n",
    "    for ii, rr in enumerate(np.linspace(r-dr, r+dr, n)):\n",
    "        idx = skd.ellipse(shape[0]/2, shape[1]/2, rr, rr * e, shape=shape)\n",
    "        base_img[ii, idx[0], idx[1]] = 1\n",
    "    return base_img\n",
    "\n",
    "def square_factory(n, shape, rx=10, ry=15, dr=1, **kwargs):\n",
    "    base_img = np.zeros((n, ) + shape)\n",
    "    for ii, rr in enumerate(np.linspace(-dr, dr, n)):\n",
    "        idx = skd.rectangle((shape[0]/2-rx+rr, shape[1]/2-ry+rr), (shape[0]/2+rx+rr, shape[1]/2+ry+rr), shape=shape)\n",
    "        base_img[ii, idx[0].astype(int), idx[1].astype(int)] = 1\n",
    "    return base_img\n",
    "\n",
    "def triag_factory(n, shape, rx=15, ry=15, dr=1, **kwargs):\n",
    "    base_img = np.zeros((n, ) + shape)\n",
    "    cx, cy = shape[0]/2, shape[1] / 2\n",
    "    for ii, rr in enumerate(np.linspace(-dr, dr, n)):\n",
    "        idx = skd.polygon([cx+rr, cx+rx+rr, cx-rx+rr], [cy-ry*np.sqrt(3)+rr, cy+ry+rr, cy+ry+rr], shape=shape)\n",
    "        base_img[ii, idx[0].astype(int), idx[1].astype(int)] = 1\n",
    "    return base_img\n",
    "\n",
    "def build_data(n, shape, label, **kwargs):\n",
    "    label2fact = {\n",
    "        'circle'   : circle_factory,\n",
    "        'square'   : square_factory,\n",
    "        'triangle' : triag_factory,\n",
    "    }\n",
    "    if not label.lower() in label2fact.keys():\n",
    "        raise Exception(f\"Label class {label} not found.\")\n",
    "    factory = label2fact[label.lower()]\n",
    "    dat = factory(n=n, shape=shape, **kwargs)\n",
    "    dat = continue_apply(dat, 0, 176, Transform.rotation)\n",
    "    dat = uniform_smp_apply(dat, 0.9, 1.1, Transform.gauss)\n",
    "    return dat"
   ]
  },
  {
   "cell_type": "code",
   "execution_count": 21,
   "id": "incorporated-walnut",
   "metadata": {},
   "outputs": [],
   "source": [
    "def gen_geomnist_data(n_tr, n_val, data_shape):\n",
    "    n_smp_per_cls = n_tr + n_val\n",
    "    n_classes = 3\n",
    "    \n",
    "    circle = build_data(n_smp_per_cls, data_shape, 'circle', r=6)\n",
    "    square = build_data(n_smp_per_cls, data_shape, 'square', rx=4, ry=8)\n",
    "    triangle = build_data(n_smp_per_cls, data_shape, 'triangle', rx=10, ry=8)\n",
    "    \n",
    "    np.random.shuffle(circle)\n",
    "    np.random.shuffle(square)\n",
    "    np.random.shuffle(triangle)\n",
    "    \n",
    "    Xtr = np.vstack([triangle[:n_tr], square[:n_tr], circle[:n_tr]])\n",
    "    Ytr = np.array([0] * n_tr + [1] * n_tr + [2] * n_tr)\n",
    "    Ytr = np.repeat(np.arange(n_classes), n_tr) \n",
    "    Xval = np.vstack([triangle[n_tr:n_tr+n_val], square[n_tr:n_tr+n_val], circle[n_tr:n_tr+n_val]])\n",
    "    Yval = np.repeat(np.arange(n_classes), n_val) \n",
    "\n",
    "    geomnist_data = [Xtr, Ytr, Xval, Yval]\n",
    "    \n",
    "    return n_smp_per_cls, n_classes, geomnist_data"
   ]
  },
  {
   "cell_type": "code",
   "execution_count": 24,
   "id": "aboriginal-difficulty",
   "metadata": {},
   "outputs": [
    {
     "data": {
      "image/png": "[encoded data removed]",
      "text/plain": [
       "<Figure size 576x576 with 10 Axes>"
      ]
     },
     "metadata": {},
     "output_type": "display_data"
    }
   ],
   "source": [
    "viz_imglist(gen_geomnist_data(800, 200, (32, 32))[-1][0][np.random.choice(2400, 10)])"
   ]
  },
  {
   "cell_type": "markdown",
   "id": "descending-satellite",
   "metadata": {},
   "source": [
    "### CIFAR10"
   ]
  },
  {
   "cell_type": "code",
   "execution_count": 12,
   "id": "marine-decimal",
   "metadata": {},
   "outputs": [],
   "source": [
    "def load_cifar10():\n",
    "    import torchvision\n",
    "    import torchvision.transforms as transforms\n",
    "    transform = transforms.Compose( [transforms.ToTensor(), transforms.Normalize((0.5, 0.5, 0.5), (0.5, 0.5, 0.5))])\n",
    "\n",
    "    return torchvision.datasets.CIFAR10(root=str(LOCAL_DATA_PATH/'vision'), train=True, download=True, transform=transform), torchvision.datasets.CIFAR10(root=str(LOCAL_DATA_PATH/'vision'), train=False, download=True, transform=transform)"
   ]
  },
  {
   "cell_type": "code",
   "execution_count": 13,
   "id": "joined-shock",
   "metadata": {},
   "outputs": [
    {
     "name": "stdout",
     "output_type": "stream",
     "text": [
      "Files already downloaded and verified\n",
      "Files already downloaded and verified\n"
     ]
    }
   ],
   "source": [
    "CIFAR10 = load_cifar10()\n",
    "cifar10_tr = list(CIFAR10[0])\n",
    "cifar10_va = list(CIFAR10[1])"
   ]
  },
  {
   "cell_type": "code",
   "execution_count": 14,
   "id": "bright-arkansas",
   "metadata": {},
   "outputs": [],
   "source": [
    "def cifar_unpack(dt=cifar10_tr, clss=None):\n",
    "    xs = torch.stack([xx[0] for xx in dt])\n",
    "    ys = np.array([xx[1] for xx in dt])\n",
    "    if clss is not None:\n",
    "        sel = np.zeros(ys.shape)\n",
    "        for cr in cls:\n",
    "            sel |= (sel == cr)\n",
    "        xs = xs[sel]\n",
    "        ys = ys[sel]\n",
    "    return xs, ys\n",
    "\n"
   ]
  },
  {
   "cell_type": "code",
   "execution_count": 15,
   "id": "alpine-egyptian",
   "metadata": {},
   "outputs": [],
   "source": [
    "cifar10_xtr, cifar10_ytr = cifar_unpack(cifar10_tr)\n",
    "cifar10_xva, cifar10_yva = cifar_unpack(cifar10_va)\n",
    "cifar10_all = [cifar10_xtr, cifar10_ytr, cifar10_xva, cifar10_yva]\n",
    "\n",
    "cifar10_n_tot_tr = 5000 # training samples per class available in the dataset\n",
    "cifar10_n_tot_va = 1000"
   ]
  },
  {
   "cell_type": "code",
   "execution_count": 19,
   "id": "according-pharmaceutical",
   "metadata": {},
   "outputs": [],
   "source": [
    "def get_random_smps(x_tr, y_tr, x_va, y_va, n_tr, n_va, n_c=3, n_tot_tr=cifar10_n_tot_tr, n_tot_va=cifar10_n_tot_va):\n",
    "    \"\"\"\n",
    "    generate random samples\n",
    "    \"\"\"\n",
    "    tridxs = [np.random.choice(n_tot_tr, n_tr) for _ in range(n_c)]\n",
    "    vaidxs = [np.random.choice(n_tot_va, n_va) for _ in range(n_c)]\n",
    "    Xtr = torch.vstack([cifar10_xtr[cifar10_ytr==k][tridxs[k]] for k in range(n_c)])\n",
    "    Ytr = np.repeat(np.arange(n_c), n_tr) \n",
    "    Xva = torch.vstack([cifar10_xva[cifar10_yva==k][vaidxs[k]] for k in range(n_c)])\n",
    "    Yva = np.repeat(np.arange(n_c), n_va) \n",
    "    \n",
    "    return Xtr, Ytr, Xva, Yva"
   ]
  },
  {
   "cell_type": "markdown",
   "id": "burning-fluid",
   "metadata": {},
   "source": [
    "# Define Models"
   ]
  },
  {
   "cell_type": "code",
   "execution_count": 25,
   "id": "aging-omaha",
   "metadata": {},
   "outputs": [],
   "source": [
    "import torch.nn as nn\n",
    "import torch.nn.functional as F\n",
    "import torch.optim as optim\n",
    "import tqdm"
   ]
  },
  {
   "cell_type": "code",
   "execution_count": 26,
   "id": "ideal-independence",
   "metadata": {},
   "outputs": [],
   "source": [
    "class SimpleConv(nn.Module):\n",
    "    def __init__(self, input_shape, n_classes):\n",
    "        super(SimpleConv, self).__init__()\n",
    "        self.conv1 = nn.Conv2d(1, 6, 5)\n",
    "        self.pool = nn.MaxPool2d(2, 2)\n",
    "        self.conv2 = nn.Conv2d(6, 16, 5)\n",
    "        self.fc1 = nn.Linear(16 * 5 * 5, 120)\n",
    "        self.fc2 = nn.Linear(120, 84)\n",
    "        self.fc3 = nn.Linear(84, n_classes)\n",
    "\n",
    "    def forward(self, x):\n",
    "        x = self.pool(F.relu(self.conv1(x)))\n",
    "        x = self.pool(F.relu(self.conv2(x)))\n",
    "        x = x.view(-1, 16 * 5 * 5)\n",
    "        x = F.relu(self.fc1(x))\n",
    "        x = F.relu(self.fc2(x))\n",
    "        x = self.fc3(x)\n",
    "        return x\n",
    "    \n",
    "class SimpleConv3d(nn.Module):\n",
    "    def __init__(self, input_shape, n_classes):\n",
    "        super(SimpleConv3d, self).__init__()\n",
    "        self.conv1 = nn.Conv2d(3, 6, 5)\n",
    "        self.pool = nn.MaxPool2d(2, 2)\n",
    "        self.conv2 = nn.Conv2d(6, 16, 5)\n",
    "        self.fc1 = nn.Linear(16 * 5 * 5, 120)\n",
    "        self.fc2 = nn.Linear(120, 84)\n",
    "        self.fc3 = nn.Linear(84, n_classes)\n",
    "\n",
    "    def forward(self, x):\n",
    "        x = self.pool(F.relu(self.conv1(x)))\n",
    "        x = self.pool(F.relu(self.conv2(x)))\n",
    "        x = x.view(-1, 16 * 5 * 5)\n",
    "        x = F.relu(self.fc1(x))\n",
    "        x = F.relu(self.fc2(x))\n",
    "        x = self.fc3(x)\n",
    "        return x\n",
    "\n"
   ]
  },
  {
   "cell_type": "code",
   "execution_count": 27,
   "id": "strong-skating",
   "metadata": {},
   "outputs": [],
   "source": [
    "def gen_model(n_classes, lr=0.005, model_func=SimpleConv):\n",
    "    model = model_func(input_shape=data_shape, n_classes=n_classes).double()\n",
    "    loss_func = nn.CrossEntropyLoss()\n",
    "    opt = optim.SGD(model.parameters(), lr=lr, momentum=0)\n",
    "    return model, loss_func, opt"
   ]
  },
  {
   "cell_type": "markdown",
   "id": "dental-repeat",
   "metadata": {},
   "source": [
    "# Training"
   ]
  },
  {
   "cell_type": "code",
   "execution_count": 28,
   "id": "sitting-secretariat",
   "metadata": {},
   "outputs": [],
   "source": [
    "def train(data_set, n_trials, n_iters, save_file, lr, data_name='geomnist', verbose=True, last_n_trial=0, model_kws={}):\n",
    "    \n",
    "    save_times = np.linspace(last_n_trial,last_n_trial+n_trials-1, 5).astype(int)\n",
    "    \n",
    "    xtr, ytr, xval, yval = [torch.Tensor(dt).to(TORCH_DEV) for dt in data_set]\n",
    "    xtr = xtr.double()\n",
    "    ytr = ytr.long()\n",
    "    xval = xval.double()\n",
    "    yval = yval.long()\n",
    "    n_cls = model_kws['n_classes']\n",
    "    \n",
    "    if data_name.lower() == 'geomnist':\n",
    "        xtr = xtr.view(-1, 1, *data_shape).double()\n",
    "        xval = xval.view(-1, 1, *data_shape).double()\n",
    "    \n",
    "    N_tr = len(xtr)\n",
    "    N_val = len(xval)\n",
    "    \n",
    "    df_cols = ['trial', 'itr', 'smp', 'y', ] + [f'y_logit{i}' for i in range(n_cls)] + ['tr_loss', 'val_loss', 'val_acc']\n",
    "    history = pd.DataFrame(columns=df_cols)\n",
    "\n",
    "    for nt in range(last_n_trial,last_n_trial+n_trials):\n",
    "        if verbose:\n",
    "            tqdmr = tqdm.tqdm(range(n_iters))\n",
    "        else:\n",
    "            tqdmr = range(n_iters)\n",
    "            \n",
    "        model, loss_func, opt = gen_model(**model_kws)\n",
    "        model.to(TORCH_DEV)\n",
    "        \n",
    "        for it in tqdmr:\n",
    "            \n",
    "            smp_idx = np.random.choice(N_tr, 1)\n",
    "            xx = xtr[smp_idx]\n",
    "            yy = ytr[smp_idx]\n",
    "\n",
    "            model.train()\n",
    "            ypred = model(xx)\n",
    "            loss = loss_func(ypred, yy)\n",
    "            tr_loss = loss.item()\n",
    "            \n",
    "            loss.backward()\n",
    "            opt.step()\n",
    "            opt.zero_grad()\n",
    "\n",
    "            model.eval()\n",
    "            with torch.no_grad():\n",
    "                model_out = model(xval)\n",
    "                val_ls = (loss_func(model_out, yval) * xval.shape[0]).item()\n",
    "                cor = torch.sum(torch.max(model_out,-1)[1] == yval).item()\n",
    "            val_loss = val_ls / N_val\n",
    "            val_acc = cor / N_val\n",
    "\n",
    "            history = history.append(pd.DataFrame([[nt, it, smp_idx[0], yy.item(), \n",
    "                                                    *[ypred[0][c].item() for c in range(n_cls)],\n",
    "                                                    tr_loss, val_loss, val_acc]], columns=df_cols))\n",
    "\n",
    "            if verbose:\n",
    "                tqdmr.set_description(f\"Itr: {it:03d} Smp: {smp_idx[0]:05d} tr_loss: {tr_loss:.2f} val_acc: {val_acc:.2f} val_loss: {val_loss:.3f}\")\n",
    "                tqdmr.refresh()\n",
    "            else:\n",
    "                if it % 500 == 0:\n",
    "                    console_log(f\"Itr: {it:03d} Smp: {smp_idx[0]:05d} tr_loss: {tr_loss:.2f} val_acc: {val_acc:.2f} val_loss: {val_loss:.3f}\")\n",
    "        if nt in save_times:\n",
    "            history.to_csv(save_file, header=True, index=None)\n",
    "            \n",
    "    history.to_csv(save_file, header=True, index=None)\n",
    "\n"
   ]
  },
  {
   "cell_type": "markdown",
   "id": "gothic-peter",
   "metadata": {},
   "source": [
    "### GeoMNIST\n",
    "\n",
    "Training on GeoMNIST dataset, varying sample size $n$."
   ]
  },
  {
   "cell_type": "code",
   "execution_count": null,
   "id": "informative-rebate",
   "metadata": {},
   "outputs": [],
   "source": [
    "smp_cfg = [(40,10), (80,20), (240, 60), (480, 120), (800, 200), (2400, 600), (4800, 1200)]\n",
    "\n",
    "n_iters = 10000\n",
    "n_trials = 100\n",
    "lr = 0.005\n",
    "data_shape = (32, 32)"
   ]
  },
  {
   "cell_type": "code",
   "execution_count": null,
   "id": "bizarre-makeup",
   "metadata": {},
   "outputs": [],
   "source": [
    "for idx, (n_tr, n_val) in enumerate(smp_cfg):\n",
    "    n_smp_per_cls, n_classes, geomnist_data = gen_geomnist_data(n_tr, n_val, data_shape)\n",
    "    save_file = f'./exp_data/geom_K3_m{int(n_smp_per_cls)}_it10k_l{lr}.csv'\n",
    "    console_log(f\"[{idx:3d}] {n_smp_per_cls} smps, save to {save_file}\")\n",
    "    \n",
    "    train(geomnist_data, n_trials, n_iters, save_file, lr, data_name='geomnist', verbose=False, model_kws={'lr': lr, 'model_func':SimpleConv, 'n_classes':n_classes})\n",
    "\n",
    "    \n"
   ]
  },
  {
   "cell_type": "markdown",
   "id": "renewable-outdoors",
   "metadata": {},
   "source": [
    "### CIFAR10\n",
    "\n",
    "Training on CIFAR10, varying number of classes, $K$."
   ]
  },
  {
   "cell_type": "code",
   "execution_count": 25,
   "id": "attempted-president",
   "metadata": {},
   "outputs": [],
   "source": [
    "smp_cfg = [2, 3, 4, 5, 6, 7, 8, 9, 10]\n",
    "\n",
    "n_iters = 30000\n",
    "n_trials = 50\n",
    "lr = 0.001\n",
    "data_shape = (32, 32)\n",
    "\n",
    "n_tr=2000      # how many training samples per class\n",
    "n_val=500      # how many validation samples per class\n",
    "n_smp_per_cls = n_tr + n_val"
   ]
  },
  {
   "cell_type": "code",
   "execution_count": null,
   "id": "duplicate-cedar",
   "metadata": {},
   "outputs": [],
   "source": [
    "for idx, n_cls in enumerate(smp_cfg):\n",
    "    CIFAR_data = get_random_smps(*cifar10_all, n_tr=n_tr, n_va=n_val, n_c=n_cls)\n",
    "    save_file = f'./exp_data/cifar10_K{n_cls}_m{int(n_smp_per_cls)}_it30k_l{lr}.csv'\n",
    "    console_log(f\"[{idx:3d}] {n_smp_per_cls} smps, save to {save_file}\")\n",
    "    \n",
    "    train(CIFAR_data, n_trials, n_iters, save_file, lr, verbose=False, model_kws={'lr': lr, 'model_func':SimpleConv3d, 'n_classes':n_cls})\n",
    "\n",
    "    \n"
   ]
  }
 ],
 "metadata": {
  "kernelspec": {
   "display_name": "py3.8-torch",
   "language": "python",
   "name": "py3.8-torch"
  },
  "language_info": {
   "codemirror_mode": {
    "name": "ipython",
    "version": 3
   },
   "file_extension": ".py",
   "mimetype": "text/x-python",
   "name": "python",
   "nbconvert_exporter": "python",
   "pygments_lexer": "ipython3",
   "version": "3.8.5"
  }
 },
 "nbformat": 4,
 "nbformat_minor": 5
}
