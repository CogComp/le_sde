{
 "cells": [
  {
   "cell_type": "markdown",
   "id": "driving-persian",
   "metadata": {},
   "source": [
    "# LE-SDE Experiments"
   ]
  },
  {
   "cell_type": "code",
   "execution_count": 1,
   "id": "searching-county",
   "metadata": {},
   "outputs": [],
   "source": [
    "from __future__ import print_function, absolute_import, division\n",
    "%load_ext autoreload\n",
    "%autoreload 2\n",
    "\n",
    "import sys, os, json, requests, time, datetime, logging, multiprocessing\n",
    "from pathlib import Path\n",
    "import pandas as pd\n",
    "import numpy as np"
   ]
  },
  {
   "cell_type": "code",
   "execution_count": 3,
   "id": "great-customer",
   "metadata": {},
   "outputs": [
    {
     "data": {
      "text/plain": [
       "True"
      ]
     },
     "execution_count": 3,
     "metadata": {},
     "output_type": "execute_result"
    }
   ],
   "source": [
    "import torch\n",
    "import torch.nn as nn\n",
    "import torch.nn.functional as F\n",
    "import torch.optim as optim\n",
    "import tqdm\n",
    "TORCH_DEV = torch.device(\"cuda:0\") if torch.cuda.is_available() else torch.device(\"cpu\")\n",
    "torch.cuda.is_available()"
   ]
  },
  {
   "cell_type": "code",
   "execution_count": 4,
   "id": "little-market",
   "metadata": {},
   "outputs": [],
   "source": [
    "import src.utils as utils\n",
    "import src.datasets as datasets\n",
    "import src.plotter as plotter\n",
    "\n",
    "LOCAL_DATA_PATH =  Path('./data')\n",
    "EXP_DATA_PATH = Path('./exp_data')"
   ]
  },
  {
   "cell_type": "markdown",
   "id": "junior-table",
   "metadata": {},
   "source": [
    "## Load Datasets"
   ]
  },
  {
   "cell_type": "markdown",
   "id": "czech-brain",
   "metadata": {},
   "source": [
    "#### GeoMNIST"
   ]
  },
  {
   "cell_type": "code",
   "execution_count": 5,
   "id": "opponent-weight",
   "metadata": {},
   "outputs": [
    {
     "data": {
      "image/png": "[encoded data removed]",
      "text/plain": [
       "<Figure size 432x288 with 10 Axes>"
      ]
     },
     "metadata": {
      "needs_background": "light"
     },
     "output_type": "display_data"
    }
   ],
   "source": [
    "# show examples of GeoMNIST (optional)\n",
    "\n",
    "plotter.viz_imglist(datasets.gen_geomnist_data(800, 200, (32, 32))[2][0][np.random.choice(2400, 10)])"
   ]
  },
  {
   "cell_type": "markdown",
   "id": "inside-rough",
   "metadata": {},
   "source": [
    "#### CIFAR-10"
   ]
  },
  {
   "cell_type": "code",
   "execution_count": 6,
   "id": "younger-march",
   "metadata": {},
   "outputs": [
    {
     "name": "stdout",
     "output_type": "stream",
     "text": [
      "Files already downloaded and verified\n",
      "Files already downloaded and verified\n"
     ]
    }
   ],
   "source": [
    "# change LOCAL_DATA_PATH / 'vision' to the path where CIFAR10 from torchvision is stored\n",
    "\n",
    "CIFAR10 = datasets.get_cifar10(datasets.load_cifar10( LOCAL_DATA_PATH/'vision' ))"
   ]
  },
  {
   "cell_type": "markdown",
   "id": "hispanic-backing",
   "metadata": {},
   "source": [
    "## Running Experiments"
   ]
  },
  {
   "cell_type": "code",
   "execution_count": 7,
   "id": "blessed-briefing",
   "metadata": {},
   "outputs": [],
   "source": [
    "from src.models import SimpleConv, SimpleConv3d"
   ]
  },
  {
   "cell_type": "markdown",
   "id": "fantastic-priest",
   "metadata": {},
   "source": [
    "### GeoMNIST (w/ different numbers of samples per class)"
   ]
  },
  {
   "cell_type": "code",
   "execution_count": 8,
   "id": "cheap-orbit",
   "metadata": {},
   "outputs": [],
   "source": [
    "smp_cfg = [(40,10), (80,20), (240, 60), (480, 120), (800, 200), (2400, 600), (4800, 1200)]\n",
    "n_iters = 10000\n",
    "n_trials = 100\n",
    "lr = 0.005\n",
    "data_shape = (32, 32)\n",
    "dataset_name = 'geom'"
   ]
  },
  {
   "cell_type": "code",
   "execution_count": 9,
   "id": "exotic-argentina",
   "metadata": {},
   "outputs": [],
   "source": [
    "for idx, (n_tr, n_val) in enumerate(smp_cfg):\n",
    "    n_smp_per_cls, n_classes, geomnist_data = datasets.gen_geomnist_data(n_tr, n_val, data_shape)\n",
    "    save_file = EXP_DATA_PATH / f'{dataset_name}_K{n_classes}_m{int(n_smp_per_cls)}_it{n_iters//1000}k_l{lr}.csv'\n",
    "    utils.console_log(f\"[{idx:3d}] {n_smp_per_cls} smps, save to {save_file}\")\n",
    "    \n",
    "    utils.train(geomnist_data, n_trials, n_iters, save_file, lr,\n",
    "                device=TORCH_DEV, n_channels=1, verbose=False, \n",
    "                model_kws={'lr': lr, 'model_func':SimpleConv, 'n_classes':n_classes, 'data_shape': data_shape})\n",
    "    \n"
   ]
  },
  {
   "cell_type": "markdown",
   "id": "attempted-dairy",
   "metadata": {},
   "source": [
    "### GeoMNIST (w/ different label corruption ratio $p$)"
   ]
  },
  {
   "cell_type": "code",
   "execution_count": 10,
   "id": "ideal-crime",
   "metadata": {},
   "outputs": [],
   "source": [
    "dataset_name = 'geom'\n",
    "n_tr, n_val = 500, 500\n",
    "n_iters = 10000\n",
    "n_trials = 100\n",
    "lr = 0.005\n",
    "data_shape = (32, 32)\n",
    "ps = [0.1, 0.2, 0.3, 0.4, 0.5, 0.6, 2/3, 0.7, 0.8]"
   ]
  },
  {
   "cell_type": "code",
   "execution_count": 11,
   "id": "optional-dress",
   "metadata": {},
   "outputs": [],
   "source": [
    "for idx, p in enumerate(ps):\n",
    "    n_smp_per_cls, n_classes, geomnist_data = datasets.gen_geomnist_data(n_tr, n_val, data_shape)\n",
    "    n_pert = int(p * n_tr)\n",
    "    c_inv = [[1,2], [0,2], [0,1]]\n",
    "    for c in range(n_classes):\n",
    "        pert_idx = np.random.choice(np.arange(c*n_tr, (c+1)*n_tr), n_pert, replace=False)\n",
    "        geomnist_data[1][pert_idx[:n_pert//2]] = c_inv[c][0]\n",
    "        geomnist_data[1][pert_idx[n_pert//2:]] = c_inv[c][1]\n",
    "\n",
    "    save_file = EXP_DATA_PATH / f'{dataset_name}_K{n_classes}_p{p}.csv'\n",
    "    utils.console_log(f\"[{idx:3d}] {p} random labels, save to {save_file}\")\n",
    "    \n",
    "    utils.train(geomnist_data, n_trials, n_iters, save_file, lr, device=TORCH_DEV,\n",
    "                n_channels=1, verbose=False, \n",
    "                model_kws={'lr': lr, 'model_func':SimpleConv, 'n_classes':n_classes, 'data_shape': data_shape})\n",
    "    \n"
   ]
  },
  {
   "cell_type": "markdown",
   "id": "hindu-arthritis",
   "metadata": {},
   "source": [
    "### CIFAR-10 (w/ different number of classe)"
   ]
  },
  {
   "cell_type": "code",
   "execution_count": 12,
   "id": "progressive-limitation",
   "metadata": {},
   "outputs": [],
   "source": [
    "dataset_name = 'CIFAR10'\n",
    "smp_cfg = [2, 3, 4, 5]\n",
    "\n",
    "n_iters = 30000\n",
    "n_trials = 100\n",
    "lr = 0.001\n",
    "\n",
    "n_tr=2000\n",
    "n_val=500\n",
    "n_tot_tr = 5000\n",
    "n_tot_va = 1000\n",
    "data_shape = (32, 32)\n",
    "n_smp_per_cls = n_tr + n_val"
   ]
  },
  {
   "cell_type": "code",
   "execution_count": 13,
   "id": "palestinian-kennedy",
   "metadata": {},
   "outputs": [],
   "source": [
    "for idx, n_cls in enumerate(smp_cfg):\n",
    "    CIFAR_data = datasets.get_random_smps(*CIFAR10, n_tr=n_tr, n_va=n_val,\n",
    "                                          n_tot_tr=n_tot_tr, n_tot_va=n_tot_va, n_c=n_cls)\n",
    "    save_file = EXP_DATA_PATH / f'{dataset_name}_K{n_cls}_m{int(n_smp_per_cls)}_it{n_iters//1000}k_l{lr}.csv'\n",
    "    utils.console_log(f\"[{idx:3d}] {n_smp_per_cls} smps, save to {save_file}\")\n",
    "    \n",
    "    utils.train(CIFAR_data, n_trials, n_iters, save_file, lr, device=TORCH_DEV,\n",
    "                n_channels=3, verbose=False, \n",
    "                model_kws={'lr': lr, 'model_func':SimpleConv3d, 'n_classes':n_cls, 'data_shape': data_shape})\n",
    "\n",
    "    \n"
   ]
  }
 ],
 "metadata": {
  "kernelspec": {
   "display_name": "py3.8-torch",
   "language": "python",
   "name": "py3.8-torch"
  },
  "language_info": {
   "codemirror_mode": {
    "name": "ipython",
    "version": 3
   },
   "file_extension": ".py",
   "mimetype": "text/x-python",
   "name": "python",
   "nbconvert_exporter": "python",
   "pygments_lexer": "ipython3",
   "version": "3.8.5"
  }
 },
 "nbformat": 4,
 "nbformat_minor": 5
}
